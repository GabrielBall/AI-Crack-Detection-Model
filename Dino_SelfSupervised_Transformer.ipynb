{
  "cells": [
    {
      "cell_type": "markdown",
      "metadata": {
        "id": "view-in-github"
      },
      "source": [
        "<a href=\"https://colab.research.google.com/github/Dhananjay42/crackseg9k/blob/main/dino.ipynb\" target=\"_parent\"><img src=\"https://colab.research.google.com/assets/colab-badge.svg\" alt=\"Open In Colab\"/></a>"
      ]
    },
    {
      "cell_type": "code",
      "execution_count": null,
      "metadata": {
        "id": "P4jsH1RH1YuJ"
      },
      "outputs": [],
      "source": [
        "!git clone https://github.com/facebookresearch/dino.git\n",
        "%cd dino/"
      ]
    },
    {
      "cell_type": "markdown",
      "metadata": {
        "id": "2xYfNUu216Nq"
      },
      "source": [
        "Import the required libraries"
      ]
    },
    {
      "cell_type": "code",
      "execution_count": null,
      "metadata": {
        "id": "ZbWs5t1x18cm"
      },
      "outputs": [],
      "source": [
        "import cv2\n",
        "from IPython.display import clear_output\n",
        "import glob\n",
        "import os"
      ]
    },
    {
      "cell_type": "markdown",
      "metadata": {
        "id": "O_yJxtl14jjy"
      },
      "source": [
        "Enter the directories"
      ]
    },
    {
      "cell_type": "code",
      "execution_count": null,
      "metadata": {
        "id": "857sOctd6NB5"
      },
      "outputs": [],
      "source": [
        "from google.colab import drive\n",
        "drive.mount('/content/gdrive')"
      ]
    },
    {
      "cell_type": "code",
      "execution_count": null,
      "metadata": {
        "id": "8CKg6LU51-b6"
      },
      "outputs": [],
      "source": [
        "input_directory = '/content/gdrive/MyDrive/50-crack-dataset/Positive/' #Enter input directory here\n",
        "output_directory = '/content/gdrive/MyDrive/50-crack-dataset/Positive_processed/' #Enter output directory here\n",
        "\n",
        "\"C:\\Users\\Gabriel\\Downloads\\50-crack-dataset\\Positive\""
      ]
    },
    {
      "cell_type": "code",
      "execution_count": null,
      "metadata": {
        "id": "66TyM9et3Zc8"
      },
      "outputs": [],
      "source": [
        "%cd /content/dino"
      ]
    },
    {
      "cell_type": "code",
      "execution_count": null,
      "metadata": {
        "id": "jQKPRfji4SfI"
      },
      "outputs": [],
      "source": [
        "list = glob.glob(input_directory + '*.jpg')"
      ]
    },
    {
      "cell_type": "code",
      "execution_count": null,
      "metadata": {
        "id": "szkWqScJ2v5r"
      },
      "outputs": [],
      "source": [
        "\n",
        "count = 1\n",
        "feature = 0\n",
        "for image in list:\n",
        "  print(f'Image {count} out of {len(list)}')\n",
        "  inp_image = cv2.imread(image)\n",
        "  cv2.imwrite('/content/dino/temp.jpg',inp_image) #Enter a temporary location to store the image. We have used '/content/dino/temp.jpg'.\n",
        "  !python visualize_attention.py --image_path /content/dino/temp.jpg #Use the same path as above here.\n",
        "  feature = cv2.imread('/content/dino/attn-head5.png',0) #Read the image from wherever you have cloned the above repo.\n",
        "  image_name = os.path.basename(image)\n",
        "  out_path = output_directory + image_name\n",
        "  f = cv2.imwrite(out_path, feature)\n",
        "  if f is False:\n",
        "    print('Check your directory.')\n",
        "  count = count + 1\n",
        "  clear_output()\n"
      ]
    },
    {
      "cell_type": "code",
      "execution_count": null,
      "metadata": {
        "id": "8jtA0-2ZbOFU"
      },
      "outputs": [],
      "source": [
        "inp_image = cv2.imread(image)\n",
        "cv2.imwrite('/content/dino/temp.jpg',inp_image)\n",
        "!python visualize_attention.py --image_path /content/dino/temp.jpg"
      ]
    },
    {
      "cell_type": "code",
      "execution_count": null,
      "metadata": {
        "id": "JSg48LLcbsIK"
      },
      "outputs": [],
      "source": [
        "feature = cv2.imread('/content/dino/attn-head5.png',0)\n",
        "image_name = os.path.basename(image)\n",
        "out_path = output_directory + image_name\n",
        "out_path"
      ]
    }
  ],
  "metadata": {
    "colab": {
      "provenance": []
    },
    "kernelspec": {
      "display_name": "Python 3",
      "name": "python3"
    },
    "language_info": {
      "name": "python"
    }
  },
  "nbformat": 4,
  "nbformat_minor": 0
}
