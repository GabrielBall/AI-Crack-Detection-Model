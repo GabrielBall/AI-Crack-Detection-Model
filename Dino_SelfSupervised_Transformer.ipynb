{
  "cells": [
    {
      "cell_type": "markdown",
      "metadata": {
        "id": "view-in-github"
      },
      "source": [
        "<a href=\"https://colab.research.google.com/github/Dhananjay42/crackseg9k/blob/main/dino.ipynb\" target=\"_parent\"><img src=\"https://colab.research.google.com/assets/colab-badge.svg\" alt=\"Open In Colab\"/></a>"
      ]
    },
    {
      "cell_type": "code",
      "execution_count": null,
      "metadata": {
        "colab": {
          "base_uri": "https://localhost:8080/"
        },
        "id": "P4jsH1RH1YuJ",
        "outputId": "dd10d785-88f2-41c0-c83e-6e03f67cbe63"
      },
      "outputs": [
        {
          "output_type": "stream",
          "name": "stdout",
          "text": [
            "Cloning into 'dino'...\n",
            "remote: Enumerating objects: 175, done.\u001b[K\n",
            "remote: Counting objects: 100% (69/69), done.\u001b[K\n",
            "remote: Compressing objects: 100% (15/15), done.\u001b[K\n",
            "remote: Total 175 (delta 57), reused 55 (delta 54), pack-reused 106\u001b[K\n",
            "Receiving objects: 100% (175/175), 24.44 MiB | 19.89 MiB/s, done.\n",
            "Resolving deltas: 100% (109/109), done.\n",
            "/content/dino\n"
          ]
        }
      ],
      "source": [
        "!git clone https://github.com/facebookresearch/dino.git\n",
        "%cd dino/"
      ]
    },
    {
      "cell_type": "markdown",
      "metadata": {
        "id": "2xYfNUu216Nq"
      },
      "source": [
        "Import the required libraries"
      ]
    },
    {
      "cell_type": "code",
      "execution_count": null,
      "metadata": {
        "id": "ZbWs5t1x18cm"
      },
      "outputs": [],
      "source": [
        "import cv2\n",
        "from IPython.display import clear_output\n",
        "import glob\n",
        "import os"
      ]
    },
    {
      "cell_type": "markdown",
      "metadata": {
        "id": "O_yJxtl14jjy"
      },
      "source": [
        "Enter the directories"
      ]
    },
    {
      "cell_type": "code",
      "execution_count": null,
      "metadata": {
        "colab": {
          "base_uri": "https://localhost:8080/"
        },
        "id": "857sOctd6NB5",
        "outputId": "5db10e11-f52c-4339-821f-eb3bc38a238e"
      },
      "outputs": [
        {
          "output_type": "stream",
          "name": "stdout",
          "text": [
            "Drive already mounted at /content/gdrive; to attempt to forcibly remount, call drive.mount(\"/content/gdrive\", force_remount=True).\n"
          ]
        }
      ],
      "source": [
        "from google.colab import drive\n",
        "drive.mount('/content/gdrive')"
      ]
    },
    {
      "cell_type": "code",
      "execution_count": null,
      "metadata": {
        "id": "8CKg6LU51-b6"
      },
      "outputs": [],
      "source": [
        "input_directory = '/content/gdrive/MyDrive/50-crack-dataset/Positive/' #Enter input directory here\n",
        "output_directory = '/content/gdrive/MyDrive/50-crack-dataset/Positive_processed/' #Enter output directory here\n",
        "\n",
        "\"C:\\Users\\Gabriel\\Downloads\\50-crack-dataset\\Positive\""
      ]
    },
    {
      "cell_type": "code",
      "execution_count": null,
      "metadata": {
        "colab": {
          "base_uri": "https://localhost:8080/"
        },
        "id": "66TyM9et3Zc8",
        "outputId": "899749a9-ef6e-46c8-da1e-9aedfb55b45c"
      },
      "outputs": [
        {
          "output_type": "stream",
          "name": "stdout",
          "text": [
            "/content/dino\n"
          ]
        }
      ],
      "source": [
        "%cd /content/dino"
      ]
    },
    {
      "cell_type": "code",
      "execution_count": null,
      "metadata": {
        "id": "jQKPRfji4SfI",
        "colab": {
          "base_uri": "https://localhost:8080/"
        },
        "outputId": "adfb504e-2acf-478a-e822-45e5aed26359"
      },
      "outputs": [
        {
          "output_type": "execute_result",
          "data": {
            "text/plain": [
              "[]"
            ]
          },
          "metadata": {},
          "execution_count": 15
        }
      ],
      "source": [
        "list = glob.glob(input_directory + '*.jpg')\n",
        "list"
      ]
    },
    {
      "cell_type": "code",
      "execution_count": null,
      "metadata": {
        "id": "szkWqScJ2v5r"
      },
      "outputs": [],
      "source": [
        "\n",
        "count = 1\n",
        "feature = 0\n",
        "for image in list:\n",
        "  print(f'Image {count} out of {len(list)}')\n",
        "  inp_image = cv2.imread(image)\n",
        "  cv2.imwrite('/content/dino/temp.jpg',inp_image) #Enter a temporary location to store the image. We have used '/content/dino/temp.jpg'.\n",
        "  !python visualize_attention.py --image_path /content/dino/temp.jpg #Use the same path as above here.\n",
        "  feature = cv2.imread('/content/dino/attn-head5.png',0) #Read the image from wherever you have cloned the above repo.\n",
        "  image_name = os.path.basename(image)\n",
        "  out_path = output_directory + image_name\n",
        "  f = cv2.imwrite(out_path, feature)\n",
        "  if f is False:\n",
        "    print('Check your directory.')\n",
        "  count = count + 1\n",
        "  clear_output()\n"
      ]
    },
    {
      "cell_type": "code",
      "execution_count": null,
      "metadata": {
        "colab": {
          "base_uri": "https://localhost:8080/",
          "height": 180
        },
        "id": "8jtA0-2ZbOFU",
        "outputId": "7e2cb517-4a33-4459-80d6-092703b0b80e"
      },
      "outputs": [
        {
          "output_type": "error",
          "ename": "NameError",
          "evalue": "name 'image' is not defined",
          "traceback": [
            "\u001b[0;31m---------------------------------------------------------------------------\u001b[0m",
            "\u001b[0;31mNameError\u001b[0m                                 Traceback (most recent call last)",
            "\u001b[0;32m<ipython-input-8-a9041174fac7>\u001b[0m in \u001b[0;36m<cell line: 1>\u001b[0;34m()\u001b[0m\n\u001b[0;32m----> 1\u001b[0;31m \u001b[0minp_image\u001b[0m \u001b[0;34m=\u001b[0m \u001b[0mcv2\u001b[0m\u001b[0;34m.\u001b[0m\u001b[0mimread\u001b[0m\u001b[0;34m(\u001b[0m\u001b[0mimage\u001b[0m\u001b[0;34m)\u001b[0m\u001b[0;34m\u001b[0m\u001b[0;34m\u001b[0m\u001b[0m\n\u001b[0m\u001b[1;32m      2\u001b[0m \u001b[0mcv2\u001b[0m\u001b[0;34m.\u001b[0m\u001b[0mimwrite\u001b[0m\u001b[0;34m(\u001b[0m\u001b[0;34m'/content/dino/temp.jpg'\u001b[0m\u001b[0;34m,\u001b[0m\u001b[0minp_image\u001b[0m\u001b[0;34m)\u001b[0m\u001b[0;34m\u001b[0m\u001b[0;34m\u001b[0m\u001b[0m\n\u001b[1;32m      3\u001b[0m \u001b[0mget_ipython\u001b[0m\u001b[0;34m(\u001b[0m\u001b[0;34m)\u001b[0m\u001b[0;34m.\u001b[0m\u001b[0msystem\u001b[0m\u001b[0;34m(\u001b[0m\u001b[0;34m'python visualize_attention.py --image_path /content/dino/temp.jpg'\u001b[0m\u001b[0;34m)\u001b[0m\u001b[0;34m\u001b[0m\u001b[0;34m\u001b[0m\u001b[0m\n",
            "\u001b[0;31mNameError\u001b[0m: name 'image' is not defined"
          ]
        }
      ],
      "source": [
        "inp_image = cv2.imread(image)\n",
        "cv2.imwrite('/content/dino/temp.jpg',inp_image)\n",
        "!python visualize_attention.py --image_path /content/dino/temp.jpg"
      ]
    },
    {
      "cell_type": "code",
      "execution_count": null,
      "metadata": {
        "colab": {
          "base_uri": "https://localhost:8080/",
          "height": 35
        },
        "id": "JSg48LLcbsIK",
        "outputId": "f2766cbf-00e0-432c-8c66-95282f5b9196"
      },
      "outputs": [
        {
          "data": {
            "application/vnd.google.colaboratory.intrinsic+json": {
              "type": "string"
            },
            "text/plain": [
              "'/content/gdrive/MyDrive/50_Crack_Dataset_Test/50_Crack_Dataset_Test/Dino_Positive/00001.jpg'"
            ]
          },
          "execution_count": 23,
          "metadata": {},
          "output_type": "execute_result"
        }
      ],
      "source": [
        "feature = cv2.imread('/content/dino/attn-head5.png',0)\n",
        "image_name = os.path.basename(image)\n",
        "out_path = output_directory + image_name\n",
        "out_path"
      ]
    }
  ],
  "metadata": {
    "colab": {
      "provenance": []
    },
    "kernelspec": {
      "display_name": "Python 3",
      "name": "python3"
    },
    "language_info": {
      "name": "python"
    }
  },
  "nbformat": 4,
  "nbformat_minor": 0
}